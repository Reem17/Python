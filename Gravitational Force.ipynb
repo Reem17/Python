{
 "cells": [
  {
   "cell_type": "code",
   "execution_count": null,
   "id": "8087e820-3eb2-495c-a9fb-018eb17b755d",
   "metadata": {},
   "outputs": [],
   "source": [
    "#Gravitational Force\n",
    "G= float(input(\"Enter Gravitational constant: \"))\n",
    "M= float(input(\"Enter mass of Earth: \"))\n",
    "m= float(input(\"Enter mass of Moon: \"))\n",
    "R= float(input(\"Enter distance between them: \"))\n",
    "F= G * M * m / pow(R,2)\n",
    "print(\"Gravitational force = {}\".format(F))"
   ]
  }
 ],
 "metadata": {
  "kernelspec": {
   "display_name": "Python 3 (ipykernel)",
   "language": "python",
   "name": "python3"
  },
  "language_info": {
   "codemirror_mode": {
    "name": "ipython",
    "version": 3
   },
   "file_extension": ".py",
   "mimetype": "text/x-python",
   "name": "python",
   "nbconvert_exporter": "python",
   "pygments_lexer": "ipython3",
   "version": "3.10.9"
  }
 },
 "nbformat": 4,
 "nbformat_minor": 5
}
