{
 "cells": [
  {
   "cell_type": "code",
   "execution_count": 11,
   "id": "788a368a-fce2-42bd-aff6-a173abb9785f",
   "metadata": {},
   "outputs": [
    {
     "name": "stdin",
     "output_type": "stream",
     "text": [
      "Enter an item to be added to tuple  reem\n"
     ]
    },
    {
     "name": "stdout",
     "output_type": "stream",
     "text": [
      "('ahmed', 'amgad', 'waleed', 'reem')\n"
     ]
    }
   ],
   "source": [
    "#1. Add item to tuple\n",
    "x= list((\"ahmed\", \"amgad\", \"waleed\"))\n",
    "newitem= input(\"Enter an item to be added to tuple \")\n",
    "x.append(newitem)\n",
    "x= tuple(x)\n",
    "print(x)"
   ]
  },
  {
   "cell_type": "code",
   "execution_count": 13,
   "id": "38b4a066-e9bf-4e95-8460-339438c381e7",
   "metadata": {},
   "outputs": [
    {
     "name": "stdout",
     "output_type": "stream",
     "text": [
      "9\n"
     ]
    }
   ],
   "source": [
    "#2. Sum items in list\n",
    "x= [3, 2, 4]\n",
    "sum= 0\n",
    "for value in x:\n",
    "    sum+= value\n",
    "print(sum)"
   ]
  },
  {
   "cell_type": "code",
   "execution_count": 11,
   "id": "6c45ac10-9483-439b-b9ca-33b94d1870c2",
   "metadata": {},
   "outputs": [
    {
     "name": "stdout",
     "output_type": "stream",
     "text": [
      "24\n"
     ]
    }
   ],
   "source": [
    "#3. Multiply items in list\n",
    "x= [3, 2, 4]\n",
    "result= 0\n",
    "if len(x) > 0:\n",
    "    result= 1\n",
    "    for value in x:\n",
    "        result*= value\n",
    "print(result)"
   ]
  },
  {
   "cell_type": "code",
   "execution_count": 7,
   "id": "5a8be82e-998c-4612-87f3-334d4eece515",
   "metadata": {
    "tags": []
   },
   "outputs": [
    {
     "name": "stdout",
     "output_type": "stream",
     "text": [
      "Smallest item is: 0\n"
     ]
    }
   ],
   "source": [
    "#4. Get smallest item in list\n",
    "x= [3, 0, 4, 10, 1] \n",
    "x.sort()\n",
    "print(\"Smallest item is:\", x[0])"
   ]
  },
  {
   "cell_type": "code",
   "execution_count": 8,
   "id": "fc585499-f541-4fb9-80f3-c5866c0634d5",
   "metadata": {},
   "outputs": [
    {
     "name": "stdout",
     "output_type": "stream",
     "text": [
      "Largest item is: 10\n"
     ]
    }
   ],
   "source": [
    "#5. Get largest item in list\n",
    "x= [3, 0, 4, 10, 1] \n",
    "x.sort()\n",
    "print(\"Largest item is:\", x[-1])"
   ]
  },
  {
   "cell_type": "code",
   "execution_count": 12,
   "id": "d706696b-50db-4f28-be93-4e6516a0ebb3",
   "metadata": {},
   "outputs": [
    {
     "name": "stdout",
     "output_type": "stream",
     "text": [
      "3\n"
     ]
    }
   ],
   "source": [
    "#6. Count number of strings in list\n",
    "x= [\"hello\",9 ,\"reem\" ,3 , \"hi\",7] \n",
    "text= []\n",
    "for value in x:\n",
    "    if type(value) ==str:\n",
    "        text.append(value)\n",
    "print(len(text))"
   ]
  },
  {
   "cell_type": "code",
   "execution_count": 14,
   "id": "c4e2a561-1197-4cb0-a7f2-eb0b3ea88f85",
   "metadata": {},
   "outputs": [
    {
     "name": "stdout",
     "output_type": "stream",
     "text": [
      "['hello', 9, 'reem', 3, 'hi', 7]\n"
     ]
    }
   ],
   "source": [
    "#7. Copy list\n",
    "x= [\"hello\",9 ,\"reem\" ,3 , \"hi\",7] \n",
    "y= x.copy()\n",
    "print(y)"
   ]
  },
  {
   "cell_type": "code",
   "execution_count": 19,
   "id": "ad7caf79-ec83-4998-a246-c0af0dc50873",
   "metadata": {},
   "outputs": [
    {
     "name": "stdout",
     "output_type": "stream",
     "text": [
      "{'hello', 3, 'reem', 7, 'hi'}\n"
     ]
    }
   ],
   "source": [
    "#8. Remove item from set\n",
    "x= {\"hello\",9 ,\"reem\" ,3 , \"hi\",7}\n",
    "x.remove(9)\n",
    "print(x)"
   ]
  },
  {
   "cell_type": "code",
   "execution_count": 23,
   "id": "f34fe0f7-9487-4449-9f39-2ec1a27073cc",
   "metadata": {},
   "outputs": [
    {
     "data": {
      "text/plain": [
       "True"
      ]
     },
     "execution_count": 23,
     "metadata": {},
     "output_type": "execute_result"
    }
   ],
   "source": [
    "#9. Check if set is subset of another\n",
    "x= {9, 5, 8}\n",
    "y= {\"hello\",9 ,\"reem\" ,5 , \"hi\", 7, 8}\n",
    "x.issubset(y)"
   ]
  },
  {
   "cell_type": "code",
   "execution_count": 25,
   "id": "682c9268-d9e8-4013-8b35-7aa933595718",
   "metadata": {},
   "outputs": [
    {
     "name": "stdout",
     "output_type": "stream",
     "text": [
      "set()\n"
     ]
    }
   ],
   "source": [
    "#10. Remove all items from set\n",
    "x= {9, 5, 8}\n",
    "x.clear()\n",
    "print(x)"
   ]
  },
  {
   "cell_type": "code",
   "execution_count": 30,
   "id": "67b893c6-6ec5-4fd9-8bc6-0502c668ee2a",
   "metadata": {},
   "outputs": [
    {
     "name": "stdout",
     "output_type": "stream",
     "text": [
      "Minimum is 5\n",
      "Maximum is 11\n"
     ]
    }
   ],
   "source": [
    "#11. Get min and max of set\n",
    "x= {9, 5, 8, 11}\n",
    "print(\"Minimum is\",min(x))\n",
    "print(\"Maximum is\",max(x))"
   ]
  },
  {
   "cell_type": "code",
   "execution_count": 35,
   "id": "0feef82f-3672-4feb-81cc-c80684b32fb9",
   "metadata": {},
   "outputs": [
    {
     "data": {
      "text/plain": [
       "2"
      ]
     },
     "execution_count": 35,
     "metadata": {},
     "output_type": "execute_result"
    }
   ],
   "source": [
    "#12. Get item index of tuple\n",
    "x= (9, 5, 8, 11)\n",
    "x.index(8)"
   ]
  },
  {
   "cell_type": "code",
   "execution_count": 2,
   "id": "a23b2a44-71c5-4035-b404-885e93ba2cb4",
   "metadata": {},
   "outputs": [
    {
     "name": "stdout",
     "output_type": "stream",
     "text": [
      "{'num1': 20, 'num2': 20}\n"
     ]
    }
   ],
   "source": [
    "#13. Convert tuple to dictionary\n",
    "x= (\"num1\",\"num2\")\n",
    "y= 20\n",
    "z= dict.fromkeys(x,y)\n",
    "print(z)"
   ]
  },
  {
   "cell_type": "code",
   "execution_count": 13,
   "id": "0021593e-b00d-43a8-9ce2-5102f8b5eb92",
   "metadata": {},
   "outputs": [
    {
     "name": "stdout",
     "output_type": "stream",
     "text": [
      "Old list is  [('hello', 9), ('hey', 5), ('hi', 1)]\n",
      "New list is  [('hello', 'hey', 'hi'), (9, 5, 1)]\n"
     ]
    }
   ],
   "source": [
    "#14. Unzip tuples list to a list\n",
    "list1 = [(\"hello\", 9), (\"hey\", 5), (\"hi\", 1)]\n",
    "print(\"Old list is \", list1)\n",
    "list2 = list(zip(*list1))\n",
    "print(\"New list is \", list2)"
   ]
  },
  {
   "cell_type": "code",
   "execution_count": 11,
   "id": "dcb28311-7104-4c49-a1f9-d46723e258e3",
   "metadata": {},
   "outputs": [
    {
     "name": "stdout",
     "output_type": "stream",
     "text": [
      "('hi', 'hello', 8, 4)\n"
     ]
    }
   ],
   "source": [
    "#15. Reverse tuple\n",
    "x= (4, 8, \"hello\", \"hi\")\n",
    "y= list(x)\n",
    "y.reverse()\n",
    "x= tuple(y)\n",
    "print(x)"
   ]
  },
  {
   "cell_type": "code",
   "execution_count": 17,
   "id": "4a241dba-b8c7-4bda-9be3-9a78a81890c8",
   "metadata": {},
   "outputs": [
    {
     "name": "stdout",
     "output_type": "stream",
     "text": [
      "{('num1', 'num2'): 20, ('x', 'y'): 20, ('a', 'b'): 20}\n"
     ]
    }
   ],
   "source": [
    "#16. Convert tuples list to dictionary\n",
    "x = [(\"num1\",\"num2\"), (\"x\",\"y\"), (\"a\",\"b\")]\n",
    "y= 20\n",
    "z= dict.fromkeys(x,y)\n",
    "print(z)"
   ]
  },
  {
   "cell_type": "code",
   "execution_count": 59,
   "id": "c1458084-b414-4bf3-b114-0e3de21402b4",
   "metadata": {},
   "outputs": [
    {
     "name": "stdout",
     "output_type": "stream",
     "text": [
      "[('num1', 10), ('x', 10), ('a', 10)]\n"
     ]
    }
   ],
   "source": [
    "#17. Replace last value of tuples list\n",
    "x = [(\"num1\",\"num2\"), (\"x\",\"y\"), (\"a\",\"b\")]\n",
    "y= []\n",
    "for t in x:\n",
    "    z= list(t)\n",
    "    z[-1]= 10\n",
    "    y.append(tuple(z))\n",
    "print(y)"
   ]
  },
  {
   "cell_type": "code",
   "execution_count": 68,
   "id": "611705f5-7236-4498-bbb0-564a2164c733",
   "metadata": {},
   "outputs": [
    {
     "name": "stdout",
     "output_type": "stream",
     "text": [
      "(2.8, 3.6, 4.9)\n"
     ]
    }
   ],
   "source": [
    "#18. Sort float tuple\n",
    "x= (3.6, 2.8, 4.9)\n",
    "z= sorted(list(x), key= float)\n",
    "print(tuple(z))"
   ]
  }
 ],
 "metadata": {
  "kernelspec": {
   "display_name": "Python 3 (ipykernel)",
   "language": "python",
   "name": "python3"
  },
  "language_info": {
   "codemirror_mode": {
    "name": "ipython",
    "version": 3
   },
   "file_extension": ".py",
   "mimetype": "text/x-python",
   "name": "python",
   "nbconvert_exporter": "python",
   "pygments_lexer": "ipython3",
   "version": "3.10.9"
  }
 },
 "nbformat": 4,
 "nbformat_minor": 5
}
