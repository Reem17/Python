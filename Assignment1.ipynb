{
 "cells": [
  {
   "cell_type": "code",
   "execution_count": 13,
   "id": "7541791f-54e6-449d-9a00-46dcd6cc4905",
   "metadata": {},
   "outputs": [
    {
     "name": "stdin",
     "output_type": "stream",
     "text": [
      "Enter Gravitational constant:  6.67\n",
      "Enter mass of Earth:  6.0\n",
      "Enter mass of Moon:  7.34\n",
      "Enter distance between them:  3.84\n"
     ]
    },
    {
     "name": "stdout",
     "output_type": "stream",
     "text": [
      "Gravitational force = 19.920979817708332\n"
     ]
    }
   ],
   "source": [
    "G= float(input(\"Enter Gravitational constant: \"))\n",
    "M= float(input(\"Enter mass of Earth: \"))\n",
    "m= float(input(\"Enter mass of Moon: \"))\n",
    "R= float(input(\"Enter distance between them: \"))\n",
    "F= G * M * m / pow(R,2)\n",
    "print(\"Gravitational force = {}\".format(F))"
   ]
  },
  {
   "cell_type": "code",
   "execution_count": 1,
   "id": "a69dc1cc-aeb8-4e2b-8a2e-6a32edb5abbc",
   "metadata": {},
   "outputs": [
    {
     "name": "stdout",
     "output_type": "stream",
     "text": [
      "Fizz\n",
      "Buzz\n",
      "Fizz\n",
      "Fizz\n",
      "Buzz\n",
      "Fizz\n",
      "FizzBuzz\n",
      "Fizz\n",
      "Buzz\n",
      "Fizz\n",
      "Fizz\n",
      "Buzz\n",
      "Fizz\n",
      "FizzBuzz\n",
      "Fizz\n",
      "Buzz\n",
      "Fizz\n",
      "Fizz\n",
      "Buzz\n",
      "Fizz\n",
      "FizzBuzz\n",
      "Fizz\n",
      "Buzz\n",
      "Fizz\n",
      "Fizz\n",
      "Buzz\n",
      "Fizz\n",
      "FizzBuzz\n",
      "Fizz\n",
      "Buzz\n",
      "Fizz\n",
      "Fizz\n",
      "Buzz\n",
      "Fizz\n",
      "FizzBuzz\n",
      "Fizz\n",
      "Buzz\n",
      "Fizz\n",
      "Fizz\n",
      "Buzz\n",
      "Fizz\n",
      "FizzBuzz\n",
      "Fizz\n",
      "Buzz\n",
      "Fizz\n",
      "Fizz\n",
      "Buzz\n"
     ]
    }
   ],
   "source": [
    "for x in range(1,101):\n",
    "    if x%3 == 0 and x%5 ==0:\n",
    "        print(\"FizzBuzz\")\n",
    "    elif x%3 == 0:\n",
    "        print(\"Fizz\")\n",
    "    elif x%5 == 0:\n",
    "        print(\"Buzz\")\n",
    "    else:\n",
    "        pass"
   ]
  }
 ],
 "metadata": {
  "kernelspec": {
   "display_name": "Python 3 (ipykernel)",
   "language": "python",
   "name": "python3"
  },
  "language_info": {
   "codemirror_mode": {
    "name": "ipython",
    "version": 3
   },
   "file_extension": ".py",
   "mimetype": "text/x-python",
   "name": "python",
   "nbconvert_exporter": "python",
   "pygments_lexer": "ipython3",
   "version": "3.10.9"
  }
 },
 "nbformat": 4,
 "nbformat_minor": 5
}
