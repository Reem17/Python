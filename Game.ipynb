{
 "cells": [
  {
   "cell_type": "code",
   "execution_count": 27,
   "id": "2a700552-43de-4f8f-aa90-0268c56d6d2a",
   "metadata": {},
   "outputs": [
    {
     "name": "stdout",
     "output_type": "stream",
     "text": [
      "Scissor\n"
     ]
    },
    {
     "name": "stdin",
     "output_type": "stream",
     "text": [
      "Write your choice  Paper\n"
     ]
    },
    {
     "name": "stdout",
     "output_type": "stream",
     "text": [
      "Paper\n",
      "Scissor wins\n"
     ]
    }
   ],
   "source": [
    "#Rock, Paper and Scissors Game\n",
    "import random\n",
    "options= [\"Rock\", \"Paper\",\"Scissor\"]\n",
    "x= random.choice(options)\n",
    "print(x)\n",
    "y= input(\"Write your choice \").capitalize()\n",
    "print(y)\n",
    "if \"Rock\" in (x, y) and \"Paper\" in (x, y):\n",
    "    print(\"Paper wins\")\n",
    "elif \"Rock\" in (x, y) and \"Scissor\" in (x, y):\n",
    "    print(\"Rock wins\")\n",
    "elif \"Paper\" in (x, y) and \"Scissor\" in (x, y):\n",
    "    print(\"Scissor wins\")\n",
    "else:\n",
    "    print(\"Draw\")"
   ]
  },
  {
   "cell_type": "code",
   "execution_count": null,
   "id": "5e133a24-5959-4304-aa1e-18353d6ce67a",
   "metadata": {},
   "outputs": [],
   "source": []
  }
 ],
 "metadata": {
  "kernelspec": {
   "display_name": "Python 3 (ipykernel)",
   "language": "python",
   "name": "python3"
  },
  "language_info": {
   "codemirror_mode": {
    "name": "ipython",
    "version": 3
   },
   "file_extension": ".py",
   "mimetype": "text/x-python",
   "name": "python",
   "nbconvert_exporter": "python",
   "pygments_lexer": "ipython3",
   "version": "3.10.9"
  }
 },
 "nbformat": 4,
 "nbformat_minor": 5
}
