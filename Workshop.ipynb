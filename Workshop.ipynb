{
 "cells": [
  {
   "cell_type": "code",
   "execution_count": 15,
   "id": "18eb7ad5-2f83-422e-8fb2-25772810ad33",
   "metadata": {},
   "outputs": [
    {
     "data": {
      "text/plain": [
       "5040"
      ]
     },
     "execution_count": 15,
     "metadata": {},
     "output_type": "execute_result"
    }
   ],
   "source": [
    "#Task 1: Factorial\n",
    "def factorial(n):\n",
    "    result= n*factorial(n-1) if n!=1 else 1\n",
    "    return result\n",
    "factorial(7)"
   ]
  },
  {
   "cell_type": "code",
   "execution_count": 41,
   "id": "2d097623-d702-4cbe-a6cb-c7fb508c5df9",
   "metadata": {},
   "outputs": [
    {
     "data": {
      "text/plain": [
       "True"
      ]
     },
     "execution_count": 41,
     "metadata": {},
     "output_type": "execute_result"
    }
   ],
   "source": [
    "#Task 2: Prime numbers\n",
    "def is_prime(n):\n",
    "    if n>1:\n",
    "        for i in range(2, n):\n",
    "            if n % i ==0:\n",
    "                return False\n",
    "        return True\n",
    "    return False\n",
    "        \n",
    "is_prime(11)"
   ]
  },
  {
   "cell_type": "code",
   "execution_count": 8,
   "id": "e121e058-e654-4a8f-9d93-c73ab397d3a3",
   "metadata": {},
   "outputs": [
    {
     "data": {
      "text/plain": [
       "[2, 4]"
      ]
     },
     "execution_count": 8,
     "metadata": {},
     "output_type": "execute_result"
    }
   ],
   "source": [
    "#Task3: Common divisors\n",
    "z=[]\n",
    "def divisor(x,y):\n",
    "    for i in range(1,min(x,y)+1):\n",
    "        if x%i and y%i ==0:\n",
    "            z.append(i)\n",
    "    return z\n",
    "\n",
    "divisor(5,4)"
   ]
  },
  {
   "cell_type": "code",
   "execution_count": 14,
   "id": "52000457-a92f-4eff-b57f-52b5c9b3d767",
   "metadata": {},
   "outputs": [
    {
     "data": {
      "text/plain": [
       "['hi']"
      ]
     },
     "execution_count": 15,
     "metadata": {},
     "output_type": "execute_result"
    }
   ],
   "source": [
    "#Task4: Common words\n",
    "z= []\n",
    "def CommonWords(x,y):\n",
    "    for value in x.split():\n",
    "        if value in y:\n",
    "            z.append(value)\n",
    "    return z\n",
    "CommonWords(\"bye hi\",\"reem hi\")"
   ]
  },
  {
   "cell_type": "code",
   "execution_count": 42,
   "id": "7c455e79-1c42-4066-aa75-f1876bb0dda2",
   "metadata": {},
   "outputs": [
    {
     "name": "stdout",
     "output_type": "stream",
     "text": [
      "['hi', 'bye']\n"
     ]
    }
   ],
   "source": [
    "#Task5: Reverse words\n",
    "def ReverseWords(x):\n",
    "    x= x.split()\n",
    "    x.reverse()\n",
    "    print(x)\n",
    "ReverseWords(\"bye hi\")"
   ]
  },
  {
   "cell_type": "code",
   "execution_count": 83,
   "id": "6a41d14b-3203-4f3c-b6fc-f2dd38e6291e",
   "metadata": {},
   "outputs": [
    {
     "name": "stdout",
     "output_type": "stream",
     "text": [
      "81571581\n"
     ]
    }
   ],
   "source": [
    "#Task6: Generate password\n",
    "import random\n",
    "def GeneratePassword(length):\n",
    "    password= \"\"\n",
    "    for x in range(length):\n",
    "        n= random.randrange(1,length+1)\n",
    "        password += str(n)\n",
    "    print(password)\n",
    "\n",
    "GeneratePassword(8)"
   ]
  },
  {
   "cell_type": "code",
   "execution_count": 90,
   "id": "de656a6e-cf2c-4bd5-9aaa-b874b53e913a",
   "metadata": {},
   "outputs": [
    {
     "name": "stdout",
     "output_type": "stream",
     "text": [
      "bye 1\n",
      "ali 2\n",
      "no 1\n",
      "hi 1\n",
      "ali 2\n",
      "Unique words are ['bye', 'no', 'hi']\n"
     ]
    }
   ],
   "source": [
    "#Task7: Find unique words and frequency of occurance\n",
    "def Words(x):\n",
    "    unique= []\n",
    "    for i in range(len(x)):\n",
    "        print(x[i],x.count(x[i]))\n",
    "        if x.count(x[i])== 1:\n",
    "            unique.append(x[i])\n",
    "    print(\"Unique words are\", unique)\n",
    "Words([\"bye\",\"ali\",\"no\",\"hi\",\"ali\"])"
   ]
  },
  {
   "cell_type": "code",
   "execution_count": 5,
   "id": "0267ec0a-d85b-4a08-9328-2e8d91ce7962",
   "metadata": {
    "tags": []
   },
   "outputs": [
    {
     "name": "stdin",
     "output_type": "stream",
     "text": [
      "Hello  reem\n"
     ]
    },
    {
     "name": "stdout",
     "output_type": "stream",
     "text": [
      "Have a nice day,  Reem\n"
     ]
    },
    {
     "name": "stdin",
     "output_type": "stream",
     "text": [
      "How can i help you? \n",
      " kjhgfhjk\n",
      "How can i help you? \n",
      " offers\n"
     ]
    },
    {
     "name": "stdout",
     "output_type": "stream",
     "text": [
      "Our offers are: aaaaaa\n"
     ]
    }
   ],
   "source": [
    "#Task9: Cahtbot\n",
    "name= input(\"Hello \").capitalize()\n",
    "print(\"Have a nice day, \", name)\n",
    "response = \"\"\n",
    "while response == \"\" or response == \"Can\\'t understand please try again\":\n",
    "    prompt= input(\"How can i help you? \\n\").lower()\n",
    "    if \"customer service\" in prompt:\n",
    "        response= \"Please call 123\"\n",
    "    elif \"products\" in prompt:\n",
    "        response= \"Our products are: aaaaaa\"\n",
    "    elif \"services\" in prompt:\n",
    "        response= \"Our services are: aaaaaa\"\n",
    "    elif \"offers\" in prompt or \"promotions\" in prompt:\n",
    "        response= \"Our offers are: aaaaaa\"\n",
    "    elif \"Address\" in prompt:\n",
    "        response= \"Our addresses are: aaaaaa \"\n",
    "    elif \"working hours\" in prompt:\n",
    "        response= \"Working hours: 12am till 12pm\"\n",
    "    else:\n",
    "        response= \"Can\\'t understand please try again\"\n",
    "print(response)"
   ]
  },
  {
   "cell_type": "code",
   "execution_count": 10,
   "id": "75e6dd5e-6236-4843-94a0-56c6976b0ddb",
   "metadata": {},
   "outputs": [
    {
     "name": "stdout",
     "output_type": "stream",
     "text": [
      "Name is ali\n",
      "Age is 80\n",
      "School: TILS school\n"
     ]
    }
   ],
   "source": [
    "#Task10: Person and Student classes\n",
    "class person:\n",
    "    def __init__(self,name,age):\n",
    "        self.name= name\n",
    "        self.age= age\n",
    "    def display(self):\n",
    "        print(\"Name is\", self.name)\n",
    "        print(\"Age is\", self.age)\n",
    "class student(person):\n",
    "    def __init__(self,name,age,school):\n",
    "        self.name= name\n",
    "        self.age= age\n",
    "        self.school= school\n",
    "    def displayStudent(self):\n",
    "        print(\"Name is\", self.name)\n",
    "        print(\"Age is\", self.age)\n",
    "        print(\"School:\", self.school)\n",
    "        \n",
    "s1= student(\"ali\",80,\"TILS school\")\n",
    "s1.displayStudent()        "
   ]
  },
  {
   "cell_type": "code",
   "execution_count": 19,
   "id": "50636395-1bf9-43c7-b5fa-6d781fd91d44",
   "metadata": {},
   "outputs": [
    {
     "name": "stdout",
     "output_type": "stream",
     "text": [
      "length=  4\n",
      "Width=  8\n",
      "Perimeter=  24\n",
      "Area=  12\n"
     ]
    },
    {
     "data": {
      "text/plain": [
       "210"
      ]
     },
     "execution_count": 19,
     "metadata": {},
     "output_type": "execute_result"
    }
   ],
   "source": [
    "#Rectangle class\n",
    "class rectangle:\n",
    "    def __init__(self,length,width):\n",
    "        self.length= length\n",
    "        self.width= width\n",
    "    def Perimeter(self):\n",
    "        return 2 * (self.length + self.width)\n",
    "    def Area(self):\n",
    "        return self.length + self.width\n",
    "    def display(self):\n",
    "        print(\"length= \",self.length)\n",
    "        print(\"Width= \",self.width)\n",
    "        print(\"Perimeter= \", 2 * (self.length + self.width))\n",
    "        print(\"Area= \", self.length + self.width)\n",
    "class Parallelepiped(rectangle):\n",
    "        def __init__(self,length,width,height):\n",
    "            self.length= length\n",
    "            self.width= width\n",
    "            self.height= height\n",
    "        def Volume(self):\n",
    "            return self.length * self.width * self.height\n",
    "        \n",
    "r1= rectangle(4,8)\n",
    "r1.display()\n",
    "p1= Parallelepiped(3,7,10)\n",
    "p1.Volume()"
   ]
  }
 ],
 "metadata": {
  "kernelspec": {
   "display_name": "Python 3 (ipykernel)",
   "language": "python",
   "name": "python3"
  },
  "language_info": {
   "codemirror_mode": {
    "name": "ipython",
    "version": 3
   },
   "file_extension": ".py",
   "mimetype": "text/x-python",
   "name": "python",
   "nbconvert_exporter": "python",
   "pygments_lexer": "ipython3",
   "version": "3.10.9"
  }
 },
 "nbformat": 4,
 "nbformat_minor": 5
}
