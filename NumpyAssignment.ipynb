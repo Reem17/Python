{
 "cells": [
  {
   "cell_type": "code",
   "execution_count": 10,
   "id": "c4c4892b-9f14-4f7d-b06d-205e31b7ca9f",
   "metadata": {},
   "outputs": [
    {
     "name": "stdout",
     "output_type": "stream",
     "text": [
      "[2 8 5 0]\n",
      "False\n"
     ]
    }
   ],
   "source": [
    "#1. Test whether none of elements of an array is zero\n",
    "import numpy as np\n",
    "x= np.array([2,8,5,0])\n",
    "print(x)\n",
    "print(np.all(x))"
   ]
  },
  {
   "cell_type": "code",
   "execution_count": 11,
   "id": "786260f8-43ea-405b-8d90-855c11699f71",
   "metadata": {},
   "outputs": [
    {
     "name": "stdout",
     "output_type": "stream",
     "text": [
      "[2 8 5 0]\n",
      "True\n"
     ]
    }
   ],
   "source": [
    "#2. Test whether none of elements of an array is non-zero\n",
    "import numpy as np\n",
    "x= np.array([2,8,5,0])\n",
    "print(x)\n",
    "print(np.any(x))"
   ]
  },
  {
   "cell_type": "code",
   "execution_count": 18,
   "id": "1abed94f-b8eb-4dca-be75-4207d849083d",
   "metadata": {},
   "outputs": [
    {
     "name": "stdout",
     "output_type": "stream",
     "text": [
      "[2 8 5 0]\n",
      "[2 8 7 9]\n",
      "Equal: [ True  True False False]\n",
      "Equal within a tolerance: False\n"
     ]
    }
   ],
   "source": [
    "#3.  Create an element-wise comparison (equal, equal within a tolerance) of two numpy arrays\n",
    "import numpy as np\n",
    "x= np.array([2,8,5,0])\n",
    "y= np.array([2,8,7,9])\n",
    "print(x)\n",
    "print(y)\n",
    "print(\"Equal:\",np.equal(x, y))\n",
    "print(\"Equal within a tolerance:\", np.allclose(x, y))"
   ]
  },
  {
   "cell_type": "code",
   "execution_count": 21,
   "id": "576351d2-cd9b-47e1-acf7-45426b8c2ead",
   "metadata": {},
   "outputs": [
    {
     "name": "stdout",
     "output_type": "stream",
     "text": [
      "An array of 10 zeros: [0. 0. 0. 0. 0. 0. 0. 0. 0. 0.]\n",
      "An array of 10 ones: [1. 1. 1. 1. 1. 1. 1. 1. 1. 1.]\n",
      "An array of 10 fives: [5. 5. 5. 5. 5. 5. 5. 5. 5. 5.]\n"
     ]
    }
   ],
   "source": [
    "#4. Create an array of 10 zeros,10 ones, 10 fives\n",
    "import numpy as np\n",
    "x= np.zeros(10)\n",
    "print(\"An array of 10 zeros:\", x)\n",
    "y= np.ones(10)\n",
    "print(\"An array of 10 ones:\",y)\n",
    "z= np.zeros(10)+5\n",
    "print(\"An array of 10 fives:\", z)"
   ]
  },
  {
   "cell_type": "code",
   "execution_count": 22,
   "id": "50897d91-d97c-40fc-b30b-8e74e7f9a353",
   "metadata": {},
   "outputs": [
    {
     "name": "stdout",
     "output_type": "stream",
     "text": [
      "[30 31 32 33 34 35 36 37 38 39 40 41 42 43 44 45 46 47 48 49 50 51 52 53\n",
      " 54 55 56 57 58 59 60 61 62 63 64 65 66 67 68 69 70]\n"
     ]
    }
   ],
   "source": [
    "#5. Create an array of the integers from 30 to70.\n",
    "import numpy as np\n",
    "x= np.arange(30,71)\n",
    "print(x)"
   ]
  },
  {
   "cell_type": "code",
   "execution_count": 24,
   "id": "fbf178d2-2609-4dfb-ab6c-788299779e21",
   "metadata": {},
   "outputs": [
    {
     "name": "stdout",
     "output_type": "stream",
     "text": [
      "[[1. 0. 0.]\n",
      " [0. 1. 0.]\n",
      " [0. 0. 1.]]\n"
     ]
    }
   ],
   "source": [
    "#6. Create a 3x3 identity matrix \n",
    "import numpy as np\n",
    "x= np.identity(3)\n",
    "print(x)"
   ]
  },
  {
   "cell_type": "code",
   "execution_count": 30,
   "id": "7490ba52-f03c-411f-b9c3-e8debc536ec5",
   "metadata": {},
   "outputs": [
    {
     "name": "stdout",
     "output_type": "stream",
     "text": [
      "[0.03415644]\n"
     ]
    }
   ],
   "source": [
    "#7. Generate a random number between 0 and 1\n",
    "import numpy as np\n",
    "x = np.random.normal(0,1,1)\n",
    "print(x)"
   ]
  },
  {
   "cell_type": "code",
   "execution_count": 32,
   "id": "db9ce782-1c08-4869-b838-46daf1be2331",
   "metadata": {},
   "outputs": [
    {
     "name": "stdout",
     "output_type": "stream",
     "text": [
      "[ 0.97430545  1.03428437  0.62908285 -0.06753185 -1.08570531 -0.43279727\n",
      "  2.04598896  0.00711545  1.04769486 -0.30231793  0.99253013 -0.95303678\n",
      "  1.15688283  0.80854545  0.46430387]\n"
     ]
    }
   ],
   "source": [
    "#8. Generate an array of 15 random numbers from a standard normal distribution\n",
    "import numpy as np\n",
    "x = np.random.normal(0,1,15)\n",
    "print(x)"
   ]
  },
  {
   "cell_type": "code",
   "execution_count": 38,
   "id": "c4b9e04d-b979-433f-82e5-e014de4d10a3",
   "metadata": {},
   "outputs": [
    {
     "name": "stdout",
     "output_type": "stream",
     "text": [
      "[15 16 17 18 19 20 21 22 23 24 25 26 27 28 29 30 31 32 33 34 35 36 37 38\n",
      " 39 40 41 42 43 44 45 46 47 48 49 50 51 52 53 54]\n",
      "All except first and last: [16 17 18 19 20 21 22 23 24 25 26 27 28 29 30 31 32 33 34 35 36 37 38 39\n",
      " 40 41 42 43 44 45 46 47 48 49 50 51 52 53]\n"
     ]
    }
   ],
   "source": [
    "#9. Create a vector with values ranging from 15 to 55 and print all values except the first and last\n",
    "import numpy as np\n",
    "x= np.arange(15,55)\n",
    "print(x)\n",
    "print(\"All except first and last:\", x[1:-1])"
   ]
  },
  {
   "cell_type": "code",
   "execution_count": 49,
   "id": "4b559e74-507e-44f2-814b-c630552aad26",
   "metadata": {},
   "outputs": [
    {
     "name": "stdout",
     "output_type": "stream",
     "text": [
      "[ 8  9  2  7 10]\n"
     ]
    }
   ],
   "source": [
    "#10. Create a vector of length 5 filled with arbitrary integers from 0 to 10 \n",
    "import numpy as np\n",
    "x= np.random.randint(0, 11, 5)\n",
    "print(x)"
   ]
  },
  {
   "cell_type": "code",
   "execution_count": 48,
   "id": "7c3b8e44-aa5c-4f8e-9c77-ccddad512950",
   "metadata": {},
   "outputs": [
    {
     "name": "stdout",
     "output_type": "stream",
     "text": [
      "[[1. 1. 1. 1. 1. 1. 1. 1. 1. 1.]\n",
      " [1. 0. 0. 0. 0. 0. 0. 0. 0. 1.]\n",
      " [1. 0. 0. 0. 0. 0. 0. 0. 0. 1.]\n",
      " [1. 0. 0. 0. 0. 0. 0. 0. 0. 1.]\n",
      " [1. 0. 0. 0. 0. 0. 0. 0. 0. 1.]\n",
      " [1. 0. 0. 0. 0. 0. 0. 0. 0. 1.]\n",
      " [1. 0. 0. 0. 0. 0. 0. 0. 0. 1.]\n",
      " [1. 0. 0. 0. 0. 0. 0. 0. 0. 1.]\n",
      " [1. 0. 0. 0. 0. 0. 0. 0. 0. 1.]\n",
      " [1. 1. 1. 1. 1. 1. 1. 1. 1. 1.]]\n"
     ]
    }
   ],
   "source": [
    "#11. Create a 10x10 matrix, in which the elements on the borders will be equal 1 and inside 0\n",
    "import numpy as np\n",
    "x= np.ones((10, 10))\n",
    "x[1:-1, 1:-1] = 0\n",
    "print(x)"
   ]
  },
  {
   "cell_type": "code",
   "execution_count": 47,
   "id": "9dd7350a-d136-4ca7-b392-87b6306cca0b",
   "metadata": {},
   "outputs": [
    {
     "name": "stdout",
     "output_type": "stream",
     "text": [
      "[[1 0 0 0 0]\n",
      " [0 2 0 0 0]\n",
      " [0 0 3 0 0]\n",
      " [0 0 0 4 0]\n",
      " [0 0 0 0 5]]\n"
     ]
    }
   ],
   "source": [
    "#12. Create a 5x5 zero matrix with elements on the main diagonal equal to 1, 2, 3, 4, 5\n",
    "import numpy as np\n",
    "x= np.diag([1, 2, 3, 4, 5])\n",
    "print(x)"
   ]
  },
  {
   "cell_type": "code",
   "execution_count": 46,
   "id": "2c71b4a2-4192-4603-8ba8-6abc0ee090db",
   "metadata": {},
   "outputs": [
    {
     "name": "stdout",
     "output_type": "stream",
     "text": [
      "[[0. 1. 0. 1.]\n",
      " [1. 0. 1. 0.]\n",
      " [0. 1. 0. 1.]\n",
      " [1. 0. 1. 0.]]\n"
     ]
    }
   ],
   "source": [
    "#13. Create a 4x4 matrix in which 0 and 1 are staggered, with zeros on the main diagonal\n",
    "import numpy as np\n",
    "x= np.zeros((4, 4))\n",
    "x[::2, 1::2] = 1\n",
    "x[1::2, ::2] = 1\n",
    "print(x)"
   ]
  },
  {
   "cell_type": "code",
   "execution_count": 52,
   "id": "60ccb009-5264-4a92-8a0e-e402fdbe22db",
   "metadata": {},
   "outputs": [
    {
     "name": "stdout",
     "output_type": "stream",
     "text": [
      "[0 1 2 3 4 5 6 7 8 9]\n",
      "[11 12 13 14 15 16 17 18 19]\n",
      "[0 1 2 3 4 5 6 7 8 9]\n",
      "[11 12 13 14 15 16 17 18 19]\n"
     ]
    }
   ],
   "source": [
    "#14. Save two given arrays into a single file in compressed format (.npz format) and load it\n",
    "import numpy as np\n",
    "import os\n",
    "x= np.arange(10)\n",
    "y= np.arange(11, 20)\n",
    "print(x)\n",
    "print(y)\n",
    "np.savez('temp.npz', x=x, y=y)\n",
    "with np.load('temp.npz') as data:\n",
    "    x2 = data['x']\n",
    "    y2 = data['y']\n",
    "    print(x2)\n",
    "    print(y2)"
   ]
  },
  {
   "cell_type": "code",
   "execution_count": 53,
   "id": "0f8f8d00-ec13-4643-82e3-bcae304e0abd",
   "metadata": {},
   "outputs": [
    {
     "name": "stdout",
     "output_type": "stream",
     "text": [
      "[0.77132064 0.02075195 0.63364823 0.74880388 0.49850701 0.22479665\n",
      " 0.19806286 0.76053071 0.16911084 0.08833981 0.68535982 0.95339335\n",
      " 0.00394827 0.51219226 0.81262096 0.61252607 0.72175532 0.29187607\n",
      " 0.91777412 0.71457578 0.54254437 0.14217005 0.37334076 0.67413362\n",
      " 0.44183317 0.43401399 0.61776698 0.51313824 0.65039718 0.60103895\n",
      " 0.8052232  0.52164715 0.90864888 0.31923609 0.09045935 0.30070006\n",
      " 0.11398436 0.82868133 0.04689632 0.62628715]\n"
     ]
    }
   ],
   "source": [
    "#15. Create a one-dimensional array of forty pseudo-randomly generated values\n",
    "import numpy as np  \n",
    "np.random.seed(10)\n",
    "print(np.random.rand(40))"
   ]
  },
  {
   "cell_type": "code",
   "execution_count": 65,
   "id": "093c0ec1-1e47-4d53-a31e-a82b123fba32",
   "metadata": {},
   "outputs": [
    {
     "name": "stdout",
     "output_type": "stream",
     "text": [
      "[[5.54 3.38 7.99]\n",
      " [3.54 4.38 6.99]\n",
      " [1.54 2.39 9.29]]\n",
      "Elements greater than 5 are [5.54 7.99 6.99 9.29]\n",
      "Elements less than 5 are [3.38 3.54 4.38 1.54 2.39]\n"
     ]
    }
   ],
   "source": [
    "#16. Extract all numbers from a given array which are less and greater than specified number\n",
    "import numpy as np  \n",
    "x= np.array([[5.54, 3.38, 7.99],\n",
    "              [3.54, 4.38, 6.99],\n",
    "              [1.54, 2.39, 9.29]])\n",
    "print(x)\n",
    "n= 5\n",
    "print(\"Elements greater than\",n,\"are\",x[x > n])\n",
    "print(\"Elements less than\",n,\"are\",x[x < n])"
   ]
  }
 ],
 "metadata": {
  "kernelspec": {
   "display_name": "Python 3 (ipykernel)",
   "language": "python",
   "name": "python3"
  },
  "language_info": {
   "codemirror_mode": {
    "name": "ipython",
    "version": 3
   },
   "file_extension": ".py",
   "mimetype": "text/x-python",
   "name": "python",
   "nbconvert_exporter": "python",
   "pygments_lexer": "ipython3",
   "version": "3.10.9"
  }
 },
 "nbformat": 4,
 "nbformat_minor": 5
}
