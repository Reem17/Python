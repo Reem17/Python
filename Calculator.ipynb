{
 "cells": [
  {
   "cell_type": "code",
   "execution_count": 1,
   "id": "0cb6d6f4-ac07-4ed8-9002-03f3bc751594",
   "metadata": {},
   "outputs": [
    {
     "name": "stdout",
     "output_type": "stream",
     "text": [
      "Operations are  ['add', 'subtract', 'divide', 'multiply', 'Even Odd', 'factorial', 'fibonacci']\n"
     ]
    },
    {
     "name": "stdin",
     "output_type": "stream",
     "text": [
      "Enter name of operation:  fibonacci\n",
      "Enter number1:  9\n"
     ]
    },
    {
     "name": "stdout",
     "output_type": "stream",
     "text": [
      "34\n"
     ]
    }
   ],
   "source": [
    "#Calculator\n",
    "def add(a,b):\n",
    "    return a+b\n",
    "def subtract(a,b):\n",
    "    return a-b\n",
    "def divide(a,b):\n",
    "    return a/b\n",
    "def multiply(a,b):\n",
    "    return a*b\n",
    "def EvenOdd(a):\n",
    "    if a % 2 ==0:\n",
    "        return \"Even\"\n",
    "    else:\n",
    "        return \"Odd\"\n",
    "def factorial(a):\n",
    "    if a==0 or a==1:\n",
    "        return 1\n",
    "    else:\n",
    "        return a*factorial(a-1)\n",
    "def fibonacci(a):\n",
    "    if a==0:\n",
    "        return 0\n",
    "    elif a==1:\n",
    "        return 1\n",
    "    else:\n",
    "        return fibonacci(a-1) + fibonacci(a-2)\n",
    "    \n",
    "operations= [\"add\",\"subtract\", \"divide\",\"multiply\",\"Even Odd\",\"factorial\",\"fibonacci\" ]\n",
    "print(f\"Operations are  {operations}\")\n",
    "operation = input(\"Enter name of operation: \").lower()\n",
    "x= float(input(\"Enter number1: \"))\n",
    "if operation == \"add\":\n",
    "    y= float(input(\"Enter number2: \"))\n",
    "    print(add(x,y))\n",
    "elif operation==\"subtract\": \n",
    "    y= float(input(\"Enter number2: \"))\n",
    "    print(subtract(x,y))\n",
    "elif operation==\"divide\": \n",
    "    y= float(input(\"Enter number2: \"))\n",
    "    print(divide(x,y))   \n",
    "elif operation==\"multiply\": \n",
    "    y= float(input(\"Enter number2: \"))\n",
    "    print(multiply(x,y)) \n",
    "elif operation==\"evenodd\": \n",
    "    print(EvenOdd(x)) \n",
    "elif operation==\"factorial\": \n",
    "    print(factorial(x)) \n",
    "elif operation==\"fibonacci\": \n",
    "    print(fibonacci(x)) \n",
    "else:\n",
    "    print(\"operation number is wrong\")"
   ]
  },
  {
   "cell_type": "code",
   "execution_count": null,
   "id": "bf37ed53-d232-4958-ba3c-a8f156d9b1d1",
   "metadata": {},
   "outputs": [],
   "source": []
  },
  {
   "cell_type": "code",
   "execution_count": null,
   "id": "f2891e86-8345-4416-a372-3d65af1d4125",
   "metadata": {},
   "outputs": [],
   "source": []
  }
 ],
 "metadata": {
  "kernelspec": {
   "display_name": "Python 3 (ipykernel)",
   "language": "python",
   "name": "python3"
  },
  "language_info": {
   "codemirror_mode": {
    "name": "ipython",
    "version": 3
   },
   "file_extension": ".py",
   "mimetype": "text/x-python",
   "name": "python",
   "nbconvert_exporter": "python",
   "pygments_lexer": "ipython3",
   "version": "3.10.9"
  }
 },
 "nbformat": 4,
 "nbformat_minor": 5
}
